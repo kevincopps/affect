{
 "cells": [
  {
   "cell_type": "code",
   "execution_count": 11,
   "metadata": {
    "collapsed": false
   },
   "outputs": [
    {
     "data": {
      "text/plain": [
       "<module 'affect.display' from '../affect/display.py'>"
      ]
     },
     "execution_count": 11,
     "metadata": {},
     "output_type": "execute_result"
    }
   ],
   "source": [
    "import sys\n",
    "sys.path.append(\"../\")\n",
    "from affect import display\n",
    "import importlib\n",
    "importlib.reload(display)"
   ]
  },
  {
   "cell_type": "code",
   "execution_count": 2,
   "metadata": {
    "collapsed": false,
    "scrolled": false
   },
   "outputs": [
    {
     "data": {
      "text/html": [
       "\n",
       "    <script type='text/javascript' src='https://x3dom.org/download/dev/x3dom.js'> </script>\n",
       "    <link rel='stylesheet' type='text/css' href='https://x3dom.org/download/dev/x3dom.css'/>\n",
       "    <h1>Model</h1>\n",
       "    <h2>A solid mechanics model</h2>\n",
       "    <p>series 3c</p>\n",
       "    <x3d showLog='false' showStat='false' width='800px' height='800px'>\n",
       "        <scene>\n",
       "            <Environment id='myEnv' SSAO='true' SSAOamount='0.3' SSAOblurDepthTreshold='1.0' SSAOradius='0.7' SSAOrandomTextureSize='4'></Environment>\n",
       "            <Viewpoint centerOfRotation=\"0.3109678,-0.0379985,0.31069311\"></Viewpoint>\n",
       "            <navigationinfo headlight=\"false\"></navigationinfo>\n",
       "            <background skycolor=\"0.8 0.8 0.8\"></background>\n",
       "            <directionallight def=\"KEY_LIGHT\" ConsoleCode=\"0.9 0.9 1.0\" direction=\"-0.7 -0.7 -0.3\" intensity=\"0.5\" on=\"true\" shadowmapsize=\"1024\" znear=\"-1\" zfar=\"-1\" shadowcascades=\"1\" shadowsplitfactor=\"1\" shadowsplitoffset=\"0.1\"></directionallight>\n",
       "            <directionallight def=\"FILL_LIGHT\" ConsoleCode=\"0.9 0.7 0.4\" direction=\"0.7  0.7 -0.3\" intensity=\"0.4\" on=\"true\" shadowmapsize=\"1024\" znear=\"-1\" zfar=\"-1\" shadowcascades=\"1\" shadowsplitfactor=\"1\" shadowsplitoffset=\"0.1\"></directionallight>\n",
       "            <directionallight def=\"BACK_LIGHT\" ConsoleCode=\"1.0 0.9 0.0\" direction=\"0.0  0.7  0.7\" intensity=\"0.2\" on=\"true\" shadowmapsize=\"1024\" znear=\"-1\" zfar=\"-1\" shadowcascades=\"1\" shadowsplitfactor=\"1\" shadowsplitoffset=\"0.1\"></directionallight>\n",
       "            <Inline nameSpaceName=\"\" mapDEFToID=\"true\" url=\"test_write_scene.x3d\" />\n",
       "        </scene>\n",
       "    </x3d>"
      ],
      "text/plain": [
       "<IPython.core.display.HTML object>"
      ]
     },
     "execution_count": 2,
     "metadata": {},
     "output_type": "execute_result"
    }
   ],
   "source": [
    "display.notebook_scene('Model0', 'Model', 'A solid mechanics model', 'series 3c', 800, 800, \n",
    "                       'test_write_scene.x3d', show_log= False,\n",
    "                       center=(00.3109678,  -0.0379985,   0.31069311))"
   ]
  },
  {
   "cell_type": "code",
   "execution_count": 14,
   "metadata": {
    "collapsed": false
   },
   "outputs": [
    {
     "data": {
      "text/html": [
       "\n",
       "<script src=\"https://x3dom.org/download/dev/x3dom.js\"></script>\n",
       "<x3d id=\"x3d\" width=\"800px\" height=\"800px\"> \n",
       "    <scene>\n",
       "        <Environment frustumCulling='false'></Environment>\n",
       "        <Viewpoint id=\"vp\" position=\"0 0 5\" zNear=\"0.01\" zFar=\"10000\"></Viewpoint>\n",
       "        <navigationInfo id=\"head\" headlight='true' type='\"EXAMINE\"'>  </navigationInfo> \n",
       "        <Transform DEF=\"model\" rotation=\"0 1 0 0\" id=\"gltf\">\n",
       "            <!-- <ExternalShape id=\"exshape\" url=\"https://cdn.rawgit.com/cx20/gltf-test/master/sampleModels/Duck/glTF-Binary/Duck.glb\"></ExternalShape> -->\n",
       "            <!-- <ExternalShape id=\"exshape\" url=\"https://cdn.rawgit.com/cx20/gltf-test/master/sampleModels/GearboxAssy/glTF-Binary/GearboxAssy.glb\"></ExternalShape> -->\n",
       "            <ExternalShape id=\"exshape\" url=\"Box.gltf\"></ExternalShape>\n",
       "        </Transform>                \n",
       "        <timeSensor DEF=\"time\" cycleInterval=\"40\" loop=\"true\"></timeSensor>\n",
       "        <OrientationInterpolator DEF=\"move\" key=\"0 0.5 1\" keyValue=\"0 1 0 0, 0 1 0 3.14, 0 1 0 6.28\"></OrientationInterpolator>\n",
       "        <Route fromNode=\"time\" fromField =\"fraction_changed\" toNode=\"move\" toField=\"set_fraction\"></Route>\n",
       "        <Route fromNode=\"move\" fromField =\"value_changed\" toNode=\"model\" toField=\"rotation\"></Route>\n",
       "    </scene> \n",
       "</x3d> "
      ],
      "text/plain": [
       "<IPython.core.display.HTML object>"
      ]
     },
     "execution_count": 14,
     "metadata": {},
     "output_type": "execute_result"
    }
   ],
   "source": [
    "display.notebook_gltf_box()"
   ]
  },
  {
   "cell_type": "code",
   "execution_count": 13,
   "metadata": {
    "collapsed": false
   },
   "outputs": [
    {
     "data": {
      "text/plain": [
       "'\\n<script src=\"https://x3dom.org/download/dev/x3dom.js\"></script>\\n<x3d id=\"x3d\" width=\"800px\" height=\"800px\"> \\n    <scene>\\n        <Environment frustumCulling=\\'false\\'></Environment>\\n        <Viewpoint id=\"vp\" position=\"0 0 5\" zNear=\"0.01\" zFar=\"10000\"></Viewpoint>\\n        <navigationInfo id=\"head\" headlight=\\'true\\' type=\\'\"EXAMINE\"\\'>  </navigationInfo> \\n        <Transform DEF=\"model\" rotation=\"0 1 0 0\" id=\"gltf\">\\n            <!-- <ExternalShape id=\"exshape\" url=\"https://cdn.rawgit.com/cx20/gltf-test/master/sampleModels/Duck/glTF-Binary/Duck.glb\"></ExternalShape> -->\\n            <!-- <ExternalShape id=\"exshape\" url=\"https://cdn.rawgit.com/cx20/gltf-test/master/sampleModels/GearboxAssy/glTF-Binary/GearboxAssy.glb\"></ExternalShape> -->\\n            <ExternalShape id=\"exshape\" url=\"Box.gltf\"></ExternalShape>\\n        </Transform>                \\n        <timeSensor DEF=\"time\" cycleInterval=\"40\" loop=\"true\"></timeSensor>\\n        <OrientationInterpolator DEF=\"move\" key=\"0 0.5 1\" keyValue=\"0 1 0 0, 0 1 0 3.14, 0 1 0 6.28\"></OrientationInterpolator>\\n        <Route fromNode=\"time\" fromField =\"fraction_changed\" toNode=\"move\" toField=\"set_fraction\"></Route>\\n        <Route fromNode=\"move\" fromField =\"value_changed\" toNode=\"model\" toField=\"rotation\"></Route>\\n    </scene> \\n</x3d> '"
      ]
     },
     "execution_count": 13,
     "metadata": {},
     "output_type": "execute_result"
    }
   ],
   "source": [
    "html.__html__()"
   ]
  },
  {
   "cell_type": "code",
   "execution_count": null,
   "metadata": {
    "collapsed": true
   },
   "outputs": [],
   "source": []
  }
 ],
 "metadata": {
  "anaconda-cloud": {},
  "kernelspec": {
   "display_name": "Python 3",
   "language": "python",
   "name": "python3"
  },
  "language_info": {
   "codemirror_mode": {
    "name": "ipython",
    "version": 3
   },
   "file_extension": ".py",
   "mimetype": "text/x-python",
   "name": "python",
   "nbconvert_exporter": "python",
   "pygments_lexer": "ipython3",
   "version": "3.6.1"
  }
 },
 "nbformat": 4,
 "nbformat_minor": 0
}
